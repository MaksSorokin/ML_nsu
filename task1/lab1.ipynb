{
 "cells": [
  {
   "cell_type": "code",
   "execution_count": 62,
   "metadata": {},
   "outputs": [
    {
     "name": "stdout",
     "output_type": "stream",
     "text": [
      "[3, 5, 7]\n",
      "[-1, -1, -1]\n",
      "15\n",
      "3\n"
     ]
    }
   ],
   "source": [
    "class Pupa:\n",
    "    _COUNTER = 0\n",
    "    def __init__(self, spisok1, spisok2):\n",
    "        self.spisok1 = spisok1\n",
    "        self.spisok2 = spisok2\n",
    "\n",
    "    def do_work(self):\n",
    "        value_array = [x + y for x, y in zip(self.spisok1, self.spisok2)]\n",
    "        print (value_array)\n",
    "        return abs(sum(value_array))\n",
    "    def take_salary(self, value):\n",
    "        self._COUNTER += value\n",
    "\n",
    "class Lupa(Pupa):\n",
    "    _COUNTER = 0\n",
    "    def __init__(self, spisok1, spisok2):\n",
    "        self.spisok1 = spisok1\n",
    "        self.spisok2 = spisok2\n",
    "\n",
    "    def do_work(self):\n",
    "        value_array = [x - y for x, y in zip(self.spisok1, self.spisok2)]\n",
    "        print (value_array)\n",
    "        return abs(sum(value_array))\n",
    "    \n",
    "\n",
    "class Account:\n",
    "    def __init__(self):\n",
    "        pass\n",
    "    def give_salary(worker):\n",
    "        return worker.take_salary(worker.do_work())\n",
    "    \n",
    "lupa = Lupa([1, 2, 3], [2, 3, 4])\n",
    "pupa = Pupa([1, 2, 3], [2, 3, 4])\n",
    "acc = Account\n",
    "#lupa.do_work()\n",
    "#pupa.do_work()\n",
    "acc.give_salary(pupa)\n",
    "acc.give_salary(lupa)\n",
    "print(pupa._COUNTER)\n",
    "print(lupa._COUNTER)\n",
    "\n",
    "    "
   ]
  },
  {
   "cell_type": "code",
   "execution_count": null,
   "metadata": {},
   "outputs": [],
   "source": []
  }
 ],
 "metadata": {
  "kernelspec": {
   "display_name": "Python 3",
   "language": "python",
   "name": "python3"
  },
  "language_info": {
   "codemirror_mode": {
    "name": "ipython",
    "version": 3
   },
   "file_extension": ".py",
   "mimetype": "text/x-python",
   "name": "python",
   "nbconvert_exporter": "python",
   "pygments_lexer": "ipython3",
   "version": "3.12.1"
  }
 },
 "nbformat": 4,
 "nbformat_minor": 2
}
