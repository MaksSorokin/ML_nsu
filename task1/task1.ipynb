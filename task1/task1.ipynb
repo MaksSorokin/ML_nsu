{
 "cells": [
  {
   "cell_type": "code",
   "execution_count": 10,
   "metadata": {},
   "outputs": [
    {
     "name": "stdout",
     "output_type": "stream",
     "text": [
      "[4.0, 2.0, 1.0]\n"
     ]
    }
   ],
   "source": [
    "#sort\n",
    "N = int(input(\"Введите количество элементов: \\n\"))\n",
    "values = []\n",
    "for i in range(N):\n",
    "    value = input(\"Введите элемент списка: \\n\")\n",
    "    try:\n",
    "        value = float(value)\n",
    "        values.append(value)\n",
    "    except:\n",
    "        ValueError\n",
    "        print(\"Некорректное значение!\")\n",
    "values.sort(reverse=True)\n",
    "print(values)\n"
   ]
  },
  {
   "cell_type": "code",
   "execution_count": 42,
   "metadata": {},
   "outputs": [
    {
     "name": "stdout",
     "output_type": "stream",
     "text": [
      "ok\n",
      "sv\n",
      "%%\n",
      "##\n",
      "%%\n",
      "['ok log', 'svo trs 13113', 'check', 'test', 'test']\n"
     ]
    }
   ],
   "source": [
    "logs = ['ok log', 'svo trs 13113', \"%%check\", '#### log message', 'test', '%%test']\n",
    "def logFilter(logList = list):\n",
    "    for index, log in enumerate(logList):\n",
    "        print(log[:2])\n",
    "        if (log[:2] == '%%'):\n",
    "            logList[index] = log[2:]\n",
    "            continue\n",
    "        if (log[:4] == '####'):\n",
    "            logList.remove(log)\n",
    "    print(logList)\n",
    "logFilter(logList = logs)\n"
   ]
  },
  {
   "cell_type": "code",
   "execution_count": null,
   "metadata": {},
   "outputs": [],
   "source": []
  }
 ],
 "metadata": {
  "kernelspec": {
   "display_name": "Python 3",
   "language": "python",
   "name": "python3"
  },
  "language_info": {
   "codemirror_mode": {
    "name": "ipython",
    "version": 3
   },
   "file_extension": ".py",
   "mimetype": "text/x-python",
   "name": "python",
   "nbconvert_exporter": "python",
   "pygments_lexer": "ipython3",
   "version": "3.12.1"
  }
 },
 "nbformat": 4,
 "nbformat_minor": 2
}
