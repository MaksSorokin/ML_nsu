{
 "cells": [
  {
   "cell_type": "code",
   "execution_count": 63,
   "metadata": {},
   "outputs": [
    {
     "name": "stdout",
     "output_type": "stream",
     "text": [
      "Некорректное значение!\n",
      "[12.0, 4.0, 4.0, 3.0]\n"
     ]
    }
   ],
   "source": [
    "#sort\n",
    "N = int(input(\"Введите количество элементов: \\n\"))\n",
    "values = []\n",
    "for i in range(N):\n",
    "    value = input(\"Введите элемент списка: \\n\")\n",
    "    try:\n",
    "        value = float(value)\n",
    "        values.append(value)\n",
    "    except:\n",
    "        ValueError\n",
    "        print(\"Некорректное значение!\")\n",
    "values.sort(reverse=True)\n",
    "print(values)\n"
   ]
  },
  {
   "cell_type": "code",
   "execution_count": 42,
   "metadata": {},
   "outputs": [
    {
     "name": "stdout",
     "output_type": "stream",
     "text": [
      "ok\n",
      "sv\n",
      "%%\n",
      "##\n",
      "%%\n",
      "['ok log', 'svo trs 13113', 'check', 'test', 'test']\n"
     ]
    }
   ],
   "source": [
    "logs = ['ok log', 'svo trs 13113', \"%%check\", '#### log message', 'test', '%%test']\n",
    "def logFilter(logList = list):\n",
    "    for index, log in enumerate(logList):\n",
    "        print(log[:2])\n",
    "        if (log[:2] == '%%'):\n",
    "            logList[index] = log[2:]\n",
    "            continue\n",
    "        if (log[:4] == '####'):\n",
    "            logList.remove(log)\n",
    "    print(logList)\n",
    "logFilter(logList = logs)\n"
   ]
  },
  {
   "cell_type": "code",
   "execution_count": 6,
   "metadata": {},
   "outputs": [
    {
     "name": "stdout",
     "output_type": "stream",
     "text": [
      "[1, 2, 3, 4, 5, 6]\n",
      "3 6\n",
      "18\n"
     ]
    }
   ],
   "source": [
    "def sumTask():\n",
    "    N = int(input('input len: /n'))\n",
    "    listNum = []\n",
    "    for i in range(N):\n",
    "        num = int(input('input value: /n'))\n",
    "        listNum.append(num)\n",
    "    print(listNum)\n",
    "    p = int(input('first index: /n'))\n",
    "    q = int(input('last index: /n'))\n",
    "    print(p, q)\n",
    "    return sum(listNum[p-1:q])\n",
    "print(sumTask())\n"
   ]
  },
  {
   "cell_type": "code",
   "execution_count": 18,
   "metadata": {},
   "outputs": [
    {
     "name": "stdout",
     "output_type": "stream",
     "text": [
      "['Аверин', 'Амосов', 'Вдовиченко']\n"
     ]
    }
   ],
   "source": [
    "s = ['Сидоров 3', 'Амосов 5', 'Аверин 5', 'Смирнова 5', 'Самойкин 4', 'Емельянов 2', 'Кац 5', 'Вдовиченко 5', 'Северин 4', 'Субботкин 5']\n",
    "n = 3\n",
    "def Artek(s, n):\n",
    "    listFive = list(filter(lambda x: int(x[-1]) == 5, s))\n",
    "    listFiveName = list(x[:-2] for x in listFive)\n",
    "    listFiveName.sort()\n",
    "    return listFiveName[:n]\n",
    "print(Artek(s, n))"
   ]
  },
  {
   "cell_type": "code",
   "execution_count": 78,
   "metadata": {},
   "outputs": [
    {
     "name": "stdout",
     "output_type": "stream",
     "text": [
      "надежный пароль\n"
     ]
    }
   ],
   "source": [
    "import string\n",
    "password = '12345$Aa'\n",
    "def passwordLevel(password):\n",
    "    Flag = True\n",
    "    if (len(password) < 8):\n",
    "        print('короткий')\n",
    "    if (not any(simbol.isdigit() for simbol in password)):\n",
    "        print('нет цифр')\n",
    "    if (not any(simbol in string.punctuation for simbol in password)):\n",
    "        print('нет спецсимвола')\n",
    "    if (not any(simbol.isupper() for simbol in password)):\n",
    "        print('нет заглавной буквы')\n",
    "    if (not any(simbol.islower() for simbol in password)):\n",
    "        print('нет строчной буквы')\n",
    "    else:\n",
    "        print('надежный пароль')\n",
    "passwordLevel(password)\n"
   ]
  },
  {
   "cell_type": "code",
   "execution_count": null,
   "metadata": {},
   "outputs": [],
   "source": []
  }
 ],
 "metadata": {
  "kernelspec": {
   "display_name": "Python 3",
   "language": "python",
   "name": "python3"
  },
  "language_info": {
   "codemirror_mode": {
    "name": "ipython",
    "version": 3
   },
   "file_extension": ".py",
   "mimetype": "text/x-python",
   "name": "python",
   "nbconvert_exporter": "python",
   "pygments_lexer": "ipython3",
   "version": "3.12.1"
  }
 },
 "nbformat": 4,
 "nbformat_minor": 2
}
